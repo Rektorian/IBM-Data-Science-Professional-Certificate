{
 "cells": [
  {
   "cell_type": "markdown",
   "id": "7b6d5510-ffa7-4726-a2bb-6cc9871cbd1a",
   "metadata": {},
   "source": [
    "<h1>My Jupyter Notebook on IBM Watson Studio<h1>"
   ]
  },
  {
   "cell_type": "markdown",
   "id": "cc881dd6-a886-4835-92ab-d65c9ec41a5c",
   "metadata": {},
   "source": [
    "__Paweł Baczyński__\n",
    "RPA Developer"
   ]
  },
  {
   "cell_type": "markdown",
   "id": "778d6486-3225-4036-914c-79ef7ffb410d",
   "metadata": {},
   "source": [
    "_I am interested in data science because it is a fascinating topic._"
   ]
  },
  {
   "cell_type": "markdown",
   "id": "f7a6dec9-2a9a-43a8-9ebe-cc8ecc10912f",
   "metadata": {},
   "source": [
    "<h3>The code below adds two numbers<h3>"
   ]
  },
  {
   "cell_type": "code",
   "execution_count": 3,
   "id": "470c4eb1-ac0c-47c3-8fc6-0891ac4cfdcc",
   "metadata": {},
   "outputs": [
    {
     "name": "stdout",
     "output_type": "stream",
     "text": [
      "4\n"
     ]
    }
   ],
   "source": [
    "print(1+3)"
   ]
  },
  {
   "cell_type": "markdown",
   "id": "70ed07cb-3d67-4b4d-bf34-0e96bbd9764c",
   "metadata": {},
   "source": [
    "__horizontal rule:__\n",
    "\n",
    "***\n",
    "\n",
    "__bulleted list:__\n",
    "\n",
    "- Bullet point 1\n",
    "- Bullet point 2\n",
    "- Bullet point 3\n",
    "\n",
    "__numbered list:__\n",
    "\n",
    "1. item 1\n",
    "2. item 2\n",
    "3. item 3\n",
    "\n",
    "__table:__\n",
    "\n",
    "| header 1 | header 2 |\n",
    "|------|------|\n",
    "| field 1 | field 2 |\n",
    "\n",
    "__hyperlinks:__\n",
    "\n",
    "[click to visit coursera](https://www.coursera.org/)\n",
    "\n",
    "__strikethrough:__\n",
    "~~this text is strikethrough~~\n",
    "\n",
    "__blockquote:__\n",
    "\n",
    "<blockquote>halo halo halo</blockquote>"
   ]
  },
  {
   "cell_type": "code",
   "execution_count": null,
   "id": "b6e67c6d-6be6-45c6-bb90-f6d2d58c874d",
   "metadata": {},
   "outputs": [],
   "source": []
  }
 ],
 "metadata": {
  "kernelspec": {
   "display_name": "Python 3 (ipykernel)",
   "language": "python",
   "name": "python3"
  },
  "language_info": {
   "codemirror_mode": {
    "name": "ipython",
    "version": 3
   },
   "file_extension": ".py",
   "mimetype": "text/x-python",
   "name": "python",
   "nbconvert_exporter": "python",
   "pygments_lexer": "ipython3",
   "version": "3.9.7"
  }
 },
 "nbformat": 4,
 "nbformat_minor": 5
}
